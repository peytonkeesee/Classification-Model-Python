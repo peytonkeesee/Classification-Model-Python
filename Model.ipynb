{
 "cells": [
  {
   "cell_type": "code",
   "execution_count": 20,
   "metadata": {},
   "outputs": [],
   "source": [
    "import numpy as np\n",
    "import pandas as pd\n",
    "from datetime import date\n",
    "import datetime as dt\n",
    "import calendar as calendar"
   ]
  },
  {
   "cell_type": "code",
   "execution_count": 21,
   "metadata": {},
   "outputs": [
    {
     "output_type": "stream",
     "name": "stdout",
     "text": [
      "99,441 read from customer file\n",
      "99,441 read from orders file\n"
     ]
    }
   ],
   "source": [
    "def load_csvs(customerfile, orderfile, verbose):\n",
    "    customers = pd.read_csv(customerfile)\n",
    "\n",
    "    if verbose: \n",
    "        print(f'{len(customers):,} read from customer file')\n",
    "\n",
    "\n",
    "    orders = pd.read_csv(orderfile)\n",
    "    orders['order_purchase_timestamp'] = pd.to_datetime(orders['order_purchase_timestamp'])\n",
    "    orders['order_purchase_date'] = orders['order_purchase_timestamp'].dt.date\n",
    "    orders['order_dow']= orders['order_purchase_timestamp'].dt.strftime(('%A'))\n",
    "\n",
    "    \n",
    "    if verbose :\n",
    "        print((f'{len(orders):,} read from orders file'))\n",
    "\n",
    "    ordercustsout = pd.merge(customers,orders, on = \"customer_id\", how = \"inner\")\n",
    "\n",
    "\n",
    "    ordercustsout = ordercustsout.sort_values(['customer_unique_id', 'order_purchase_timestamp'])\n",
    "    \n",
    "    return ordercustsout\n",
    "\n",
    "orders_file = 'Data\\olist_orders_dataset.csv'\n",
    "customers_file = 'Data\\olist_customers_dataset.csv'\n",
    "\n",
    "\n",
    "\n",
    "    ##Load data and create DF to last full month, june 2018\n",
    "custorders_cleaned = load_csvs(customers_file, orders_file, 1)"
   ]
  },
  {
   "cell_type": "code",
   "execution_count": 22,
   "metadata": {},
   "outputs": [
    {
     "output_type": "execute_result",
     "data": {
      "text/plain": [
       "636020"
      ]
     },
     "metadata": {},
     "execution_count": 22
    }
   ],
   "source": [
    "snapshot_date = date(2017, 12, 31)\n",
    "mask1 = custorders_cleaned['order_purchase_timestamp'].dt.date <= snapshot_date\n",
    "df_raw = custorders_cleaned[mask1]\n",
    "\n",
    "df_raw.size\n",
    "\n"
   ]
  },
  {
   "source": [
    "## Attributes 1 3:\n"
   ],
   "cell_type": "markdown",
   "metadata": {}
  },
  {
   "cell_type": "code",
   "execution_count": 23,
   "metadata": {},
   "outputs": [
    {
     "output_type": "stream",
     "name": "stdout",
     "text": [
      "cust_orders completed\n"
     ]
    },
    {
     "output_type": "execute_result",
     "data": {
      "text/plain": [
       "88068"
      ]
     },
     "metadata": {},
     "execution_count": 23
    }
   ],
   "source": [
    "\n",
    "## Attribute 1: Number of orders per customer ##\n",
    "def cust_orders(df): \n",
    "    custorders =  df.groupby('customer_unique_id').size().reset_index()\n",
    "    print(\"cust_orders completed\")\n",
    "    return custorders\n",
    "\n",
    "\n",
    "cust_ordersreturned = cust_orders(df_raw)\n",
    "\n",
    "\n",
    "cust_ordersreturned.size"
   ]
  },
  {
   "cell_type": "code",
   "execution_count": 24,
   "metadata": {},
   "outputs": [
    {
     "output_type": "execute_result",
     "data": {
      "text/plain": [
       "88068"
      ]
     },
     "metadata": {},
     "execution_count": 24
    }
   ],
   "source": [
    "##Attribute 2: \n",
    "def get_customer_recency(df):\n",
    "    cust_recency = df.groupby('customer_unique_id')['order_purchase_timestamp'].max().reset_index()\n",
    "    delta = snapshot_date - cust_recency['order_purchase_timestamp'].dt.date\n",
    "    cust_recency['order_recency'] = delta.dt.days / 30\n",
    "    cust_recency['order_recency'] = cust_recency['order_recency'].astype(int)\n",
    "\n",
    "    cust_recency = cust_recency.drop('order_purchase_timestamp', axis=1)\n",
    "\n",
    "    return cust_recency\n",
    "\n",
    "\n",
    "cust_recency = get_customer_recency(df_raw)\n",
    "\n",
    "cust_recency.size"
   ]
  },
  {
   "cell_type": "code",
   "execution_count": 25,
   "metadata": {},
   "outputs": [
    {
     "output_type": "execute_result",
     "data": {
      "text/plain": [
       "(44034, 8)"
      ]
     },
     "metadata": {},
     "execution_count": 25
    }
   ],
   "source": [
    "##Attribute 3: \n",
    "\n",
    "df_raw12 = pd.get_dummies(df_raw, columns=['order_dow'])\n",
    "dummies = [x for x in df_raw12.columns if 'order_dow_' in x]\n",
    "\n",
    "# aggreagte data to the customer-level, so that we have one record per customer\n",
    "cust_dow = df_raw12.groupby('customer_unique_id')[dummies].sum().reset_index()\n",
    "\n",
    "cust_dow.shape\n",
    "\n"
   ]
  },
  {
   "cell_type": "code",
   "execution_count": 27,
   "metadata": {},
   "outputs": [
    {
     "output_type": "execute_result",
     "data": {
      "text/plain": [
       "((44034, 8), (44034, 2), 88068)"
      ]
     },
     "metadata": {},
     "execution_count": 27
    }
   ],
   "source": [
    "cust_dow.shape,cust_recency.shape, cust_ordersreturned.size"
   ]
  },
  {
   "source": [
    "## Attribute 4: Counts of orders by status "
   ],
   "cell_type": "markdown",
   "metadata": {}
  },
  {
   "cell_type": "code",
   "execution_count": 28,
   "metadata": {},
   "outputs": [
    {
     "output_type": "execute_result",
     "data": {
      "text/plain": [
       "396306"
      ]
     },
     "metadata": {},
     "execution_count": 28
    }
   ],
   "source": [
    "def orderbystatus(df): \n",
    "\n",
    "    df_raw = pd.get_dummies(df, columns=['order_status'])\n",
    "    dummies = [x for x in df_raw.columns if 'order_status' in x]\n",
    "    count_by_orderstatus = df_raw.groupby('customer_unique_id')[dummies].sum().reset_index()\n",
    "    return count_by_orderstatus\n",
    "\n",
    "\n",
    "\n",
    "orderstatuscounts = orderbystatus(df_raw)\n",
    "\n",
    "orderstatuscounts.size"
   ]
  },
  {
   "source": [
    "## Attribute 5: Time between estimated and actual delivery dates"
   ],
   "cell_type": "markdown",
   "metadata": {}
  },
  {
   "cell_type": "code",
   "execution_count": 29,
   "metadata": {},
   "outputs": [
    {
     "output_type": "stream",
     "name": "stderr",
     "text": [
      "<ipython-input-29-89fced6c8c6d>:4: SettingWithCopyWarning: \nA value is trying to be set on a copy of a slice from a DataFrame.\nTry using .loc[row_indexer,col_indexer] = value instead\n\nSee the caveats in the documentation: https://pandas.pydata.org/pandas-docs/stable/user_guide/indexing.html#returning-a-view-versus-a-copy\n  df['order_purchase_timestamp'] = pd.to_datetime(df.order_purchase_timestamp, format='%Y-%m-%d %H:%M:%S')\n<ipython-input-29-89fced6c8c6d>:5: SettingWithCopyWarning: \nA value is trying to be set on a copy of a slice from a DataFrame.\nTry using .loc[row_indexer,col_indexer] = value instead\n\nSee the caveats in the documentation: https://pandas.pydata.org/pandas-docs/stable/user_guide/indexing.html#returning-a-view-versus-a-copy\n  df['Late Night'] = df['order_purchase_timestamp'].dt.time.between(dt.time(0), dt.time(5)).astype(int)\n<ipython-input-29-89fced6c8c6d>:6: SettingWithCopyWarning: \nA value is trying to be set on a copy of a slice from a DataFrame.\nTry using .loc[row_indexer,col_indexer] = value instead\n\nSee the caveats in the documentation: https://pandas.pydata.org/pandas-docs/stable/user_guide/indexing.html#returning-a-view-versus-a-copy\n  df['Morning'] = df['order_purchase_timestamp'].dt.time.between(dt.time(5,0,00,1), dt.time(11)).astype(int)\n<ipython-input-29-89fced6c8c6d>:7: SettingWithCopyWarning: \nA value is trying to be set on a copy of a slice from a DataFrame.\nTry using .loc[row_indexer,col_indexer] = value instead\n\nSee the caveats in the documentation: https://pandas.pydata.org/pandas-docs/stable/user_guide/indexing.html#returning-a-view-versus-a-copy\n  df['Afternoon'] = df['order_purchase_timestamp'].dt.time.between(dt.time(11,0,00,1), dt.time(16)).astype(int)\n<ipython-input-29-89fced6c8c6d>:8: SettingWithCopyWarning: \nA value is trying to be set on a copy of a slice from a DataFrame.\nTry using .loc[row_indexer,col_indexer] = value instead\n\nSee the caveats in the documentation: https://pandas.pydata.org/pandas-docs/stable/user_guide/indexing.html#returning-a-view-versus-a-copy\n  df['Evening'] = df['order_purchase_timestamp'].dt.time.between(dt.time(16,0,00,1), dt.time(23, 59, 59, 999999)).astype(int)\n"
     ]
    },
    {
     "output_type": "execute_result",
     "data": {
      "text/plain": [
       "(44034, 4)"
      ]
     },
     "metadata": {},
     "execution_count": 29
    }
   ],
   "source": [
    "\n",
    "    \n",
    "df = df_raw\n",
    "\n",
    "dummies = ['Morning', 'Afternoon', 'Evening']\n",
    "df['order_purchase_timestamp'] = pd.to_datetime(df.order_purchase_timestamp, format='%Y-%m-%d %H:%M:%S')\n",
    "df['Late Night'] = df['order_purchase_timestamp'].dt.time.between(dt.time(0), dt.time(5)).astype(int)\n",
    "df['Morning'] = df['order_purchase_timestamp'].dt.time.between(dt.time(5,0,00,1), dt.time(11)).astype(int)\n",
    "df['Afternoon'] = df['order_purchase_timestamp'].dt.time.between(dt.time(11,0,00,1), dt.time(16)).astype(int)\n",
    "df['Evening'] = df['order_purchase_timestamp'].dt.time.between(dt.time(16,0,00,1), dt.time(23, 59, 59, 999999)).astype(int)\n",
    "\n",
    "PM = df.groupby('customer_unique_id')[dummies].sum().reset_index()\n",
    "\n",
    "PM.shape\n",
    "\n"
   ]
  },
  {
   "cell_type": "code",
   "execution_count": null,
   "metadata": {},
   "outputs": [],
   "source": [
    "Attribute 6"
   ]
  },
  {
   "cell_type": "code",
   "execution_count": 96,
   "metadata": {},
   "outputs": [
    {
     "output_type": "execute_result",
     "data": {
      "text/plain": [
       "customer_id                         0\n",
       "customer_unique_id                  0\n",
       "customer_zip_code_prefix            0\n",
       "customer_city                       0\n",
       "customer_state                      0\n",
       "order_id                            0\n",
       "order_status                        0\n",
       "order_purchase_timestamp            0\n",
       "order_approved_at                  78\n",
       "order_delivered_carrier_date     1192\n",
       "order_delivered_customer_date    1732\n",
       "order_estimated_delivery_date       0\n",
       "order_purchase_date                 0\n",
       "order_dow                           0\n",
       "Morning                             0\n",
       "Afternoon                           0\n",
       "Evening                             0\n",
       "Late Night                          0\n",
       "dtype: int64"
      ]
     },
     "metadata": {},
     "execution_count": 96
    }
   ],
   "source": []
  },
  {
   "cell_type": "code",
   "execution_count": 30,
   "metadata": {},
   "outputs": [
    {
     "output_type": "stream",
     "name": "stderr",
     "text": [
      "<ipython-input-30-a509760fcdc8>:2: SettingWithCopyWarning: \nA value is trying to be set on a copy of a slice from a DataFrame.\nTry using .loc[row_indexer,col_indexer] = value instead\n\nSee the caveats in the documentation: https://pandas.pydata.org/pandas-docs/stable/user_guide/indexing.html#returning-a-view-versus-a-copy\n  df['order_delivered_customer_date'] = pd.to_datetime(df.order_delivered_customer_date, format='%Y-%m-%d %H:%M:%S')\n<ipython-input-30-a509760fcdc8>:3: SettingWithCopyWarning: \nA value is trying to be set on a copy of a slice from a DataFrame.\nTry using .loc[row_indexer,col_indexer] = value instead\n\nSee the caveats in the documentation: https://pandas.pydata.org/pandas-docs/stable/user_guide/indexing.html#returning-a-view-versus-a-copy\n  df['order_estimated_delivery_date'] = pd.to_datetime(df.order_estimated_delivery_date, format='%Y-%m-%d %H:%M:%S')\n<ipython-input-30-a509760fcdc8>:10: SettingWithCopyWarning: \nA value is trying to be set on a copy of a slice from a DataFrame.\nTry using .loc[row_indexer,col_indexer] = value instead\n\nSee the caveats in the documentation: https://pandas.pydata.org/pandas-docs/stable/user_guide/indexing.html#returning-a-view-versus-a-copy\n  df['delta'] = delta.dt.days.astype(int)\n"
     ]
    },
    {
     "output_type": "execute_result",
     "data": {
      "text/plain": [
       "(39969, 2)"
      ]
     },
     "metadata": {},
     "execution_count": 30
    }
   ],
   "source": [
    "def time_between_estimated_and_actual(df):\n",
    "    df['order_delivered_customer_date'] = pd.to_datetime(df.order_delivered_customer_date, format='%Y-%m-%d %H:%M:%S')\n",
    "    df['order_estimated_delivery_date'] = pd.to_datetime(df.order_estimated_delivery_date, format='%Y-%m-%d %H:%M:%S')\n",
    "    mask = df['order_delivered_customer_date'].dt.date <= snapshot_date  \n",
    "    df = df[mask]\n",
    "    \n",
    "    delta = df['order_delivered_customer_date'].dt.date - df['order_estimated_delivery_date'].dt.date\n",
    "\n",
    "\n",
    "    df['delta'] = delta.dt.days.astype(int)\n",
    "\n",
    "    time_between =  df.groupby('customer_unique_id')['delta'].mean().reset_index()\n",
    "    \n",
    "    return time_between\n",
    "\n",
    "timebetween = time_between_estimated_and_actual(df_raw)\n",
    "\n",
    "timebetween.shape"
   ]
  },
  {
   "source": [],
   "cell_type": "markdown",
   "metadata": {}
  },
  {
   "source": [
    "# Merge them "
   ],
   "cell_type": "markdown",
   "metadata": {}
  },
  {
   "cell_type": "code",
   "execution_count": 31,
   "metadata": {},
   "outputs": [],
   "source": [
    "df_merged = pd.merge(cust_recency, cust_ordersreturned, on='customer_unique_id').merge(cust_dow, on='customer_unique_id').merge(timebetween, on='customer_unique_id').merge(PM, on ='customer_unique_id' ).merge(orderstatuscounts, on='customer_unique_id')"
   ]
  },
  {
   "cell_type": "code",
   "execution_count": 108,
   "metadata": {},
   "outputs": [
    {
     "output_type": "execute_result",
     "data": {
      "text/plain": [
       "(39969, 22)"
      ]
     },
     "metadata": {},
     "execution_count": 108
    }
   ],
   "source": []
  },
  {
   "source": [
    "### Assign labels (aka the target variable or the dependent variable)\n"
   ],
   "cell_type": "markdown",
   "metadata": {}
  },
  {
   "cell_type": "code",
   "execution_count": 45,
   "metadata": {},
   "outputs": [
    {
     "output_type": "stream",
     "name": "stdout",
     "text": [
      "2018-01-01 02:48:41 2018-07-30 23:54:48\n"
     ]
    }
   ],
   "source": [
    "start_date = dt.date(2018, 1, 1)\n",
    "end_date = dt.date(2018, 7, 31)\n",
    "\n",
    "\n",
    "mask= (custorders_cleaned['order_purchase_timestamp'].dt.date >= start_date) & (custorders_cleaned['order_purchase_timestamp'].dt.date < end_date)\n",
    "\n",
    "target_events_raw = custorders_cleaned[mask]\n",
    "\n",
    "print (target_events_raw['order_purchase_timestamp'].min(), target_events_raw['order_purchase_timestamp'].max())"
   ]
  },
  {
   "cell_type": "code",
   "execution_count": 46,
   "metadata": {},
   "outputs": [
    {
     "output_type": "execute_result",
     "data": {
      "text/plain": [
       "                 customer_unique_id  purch\n",
       "0  0000366f3b9a7992bf8c76cfdf3221e2      1\n",
       "1  0000b849f77a49e4a4ce2b2a4ca5be3f      1\n",
       "2  0004bd2a26a76fe21f786e4fbd80607f      1\n",
       "3  00050ab1314c0e55a6ca13cf7181fecf      1\n",
       "4  00053a61a98854899e70ed204dd4bafe      1"
      ],
      "text/html": "<div>\n<style scoped>\n    .dataframe tbody tr th:only-of-type {\n        vertical-align: middle;\n    }\n\n    .dataframe tbody tr th {\n        vertical-align: top;\n    }\n\n    .dataframe thead th {\n        text-align: right;\n    }\n</style>\n<table border=\"1\" class=\"dataframe\">\n  <thead>\n    <tr style=\"text-align: right;\">\n      <th></th>\n      <th>customer_unique_id</th>\n      <th>purch</th>\n    </tr>\n  </thead>\n  <tbody>\n    <tr>\n      <th>0</th>\n      <td>0000366f3b9a7992bf8c76cfdf3221e2</td>\n      <td>1</td>\n    </tr>\n    <tr>\n      <th>1</th>\n      <td>0000b849f77a49e4a4ce2b2a4ca5be3f</td>\n      <td>1</td>\n    </tr>\n    <tr>\n      <th>2</th>\n      <td>0004bd2a26a76fe21f786e4fbd80607f</td>\n      <td>1</td>\n    </tr>\n    <tr>\n      <th>3</th>\n      <td>00050ab1314c0e55a6ca13cf7181fecf</td>\n      <td>1</td>\n    </tr>\n    <tr>\n      <th>4</th>\n      <td>00053a61a98854899e70ed204dd4bafe</td>\n      <td>1</td>\n    </tr>\n  </tbody>\n</table>\n</div>"
     },
     "metadata": {},
     "execution_count": 46
    }
   ],
   "source": [
    "target_events = target_events_raw.groupby('customer_unique_id').size().reset_index().rename(columns={0: 'purch'})\n",
    "\n",
    "target_events.head()"
   ]
  },
  {
   "cell_type": "code",
   "execution_count": 47,
   "metadata": {},
   "outputs": [
    {
     "output_type": "stream",
     "name": "stdout",
     "text": [
      "Number of customers who made at least one purchase durnig the prediction window: 46,096\n"
     ]
    }
   ],
   "source": [
    "print(f'Number of customers who made at least one purchase durnig the prediction window: {len(target_events):,}')"
   ]
  },
  {
   "cell_type": "code",
   "execution_count": 48,
   "metadata": {},
   "outputs": [
    {
     "output_type": "execute_result",
     "data": {
      "text/plain": [
       "0    39396\n",
       "1      573\n",
       "Name: purch, dtype: int64"
      ]
     },
     "metadata": {},
     "execution_count": 48
    }
   ],
   "source": [
    "df = pd.merge(df_merged, target_events, how=\"left\", on=\"customer_unique_id\")\n",
    "\n",
    "df.shape\n",
    "\n",
    "df.head()\n",
    "\n",
    "df.purch.value_counts()\n",
    "\n",
    "df['purch'] = [1 if x > 0 else 0 for x in df['purch']]\n",
    "df.purch.value_counts()\n"
   ]
  },
  {
   "cell_type": "code",
   "execution_count": 49,
   "metadata": {},
   "outputs": [
    {
     "output_type": "execute_result",
     "data": {
      "text/plain": [
       "order_recency              -0.012516\n",
       "0                           0.073521\n",
       "order_dow_Friday           -0.001087\n",
       "order_dow_Monday            0.013487\n",
       "order_dow_Saturday         -0.002927\n",
       "order_dow_Sunday            0.012563\n",
       "order_dow_Thursday          0.006610\n",
       "order_dow_Tuesday           0.004898\n",
       "order_dow_Wednesday         0.007857\n",
       "delta                      -0.003191\n",
       "Morning                     0.013796\n",
       "Afternoon                   0.006352\n",
       "Evening                     0.007979\n",
       "order_status_approved            NaN\n",
       "order_status_canceled      -0.003250\n",
       "order_status_created             NaN\n",
       "order_status_delivered      0.073467\n",
       "order_status_invoiced      -0.002001\n",
       "order_status_processing     0.012218\n",
       "order_status_shipped        0.012383\n",
       "order_status_unavailable    0.009497\n",
       "purch                       1.000000\n",
       "Name: purch, dtype: float64"
      ]
     },
     "metadata": {},
     "execution_count": 49
    }
   ],
   "source": [
    "df.purch.value_counts() / len(df)\n",
    "\n",
    "\n",
    "df.corr()['purch']"
   ]
  },
  {
   "source": [
    "# Model Building"
   ],
   "cell_type": "markdown",
   "metadata": {}
  },
  {
   "cell_type": "code",
   "execution_count": 51,
   "metadata": {},
   "outputs": [],
   "source": [
    "preds = df.columns[1:-1]\n",
    "\n",
    "X = df[preds]\n",
    "y = df['purch']\n",
    "\n"
   ]
  },
  {
   "source": [
    "## Two fold partition\n"
   ],
   "cell_type": "markdown",
   "metadata": {}
  },
  {
   "cell_type": "code",
   "execution_count": 52,
   "metadata": {},
   "outputs": [
    {
     "output_type": "execute_result",
     "data": {
      "text/plain": [
       "(19984, 19985)"
      ]
     },
     "metadata": {},
     "execution_count": 52
    }
   ],
   "source": [
    "## Splitting Data into train and test: \n",
    "\n",
    "from sklearn.model_selection import train_test_split\n",
    "\n",
    "X_train, X_test, y_train, y_test = train_test_split(X, y, test_size=0.5, random_state=314)\n",
    "\n",
    "len(X_train), len(X_test)"
   ]
  },
  {
   "cell_type": "code",
   "execution_count": 57,
   "metadata": {},
   "outputs": [
    {
     "output_type": "stream",
     "name": "stdout",
     "text": [
      "0    19705\n1      279\nName: purch, dtype: int64\n0    19691\n1      294\nName: purch, dtype: int64\n"
     ]
    }
   ],
   "source": [
    "print(y_train.value_counts())\n",
    "\n",
    "print(y_test.value_counts())"
   ]
  },
  {
   "source": [
    "## Logistic Regression"
   ],
   "cell_type": "markdown",
   "metadata": {}
  },
  {
   "cell_type": "code",
   "execution_count": 177,
   "metadata": {},
   "outputs": [
    {
     "output_type": "execute_result",
     "data": {
      "text/plain": [
       "                 customer_unique_id  order_recency  0  order_dow_Friday  \\\n",
       "0  0000f46a3911fa3c0805444483337064              9  1                 1   \n",
       "1  0000f6ccb0745a6a4b88665a16c9f078              2  1                 0   \n",
       "2  0004aac84e0df4da2b147fca70cf8255              1  1                 0   \n",
       "3  0005e1862207bf6ccc02e4228effd9a0             10  1                 0   \n",
       "4  0006fdc98a402fceb4eb0ee528f6a8d4              5  1                 0   \n",
       "\n",
       "   order_dow_Monday  order_dow_Saturday  order_dow_Sunday  order_dow_Thursday  \\\n",
       "0                 0                   0                 0                   0   \n",
       "1                 0                   0                 0                   1   \n",
       "2                 0                   0                 0                   0   \n",
       "3                 0                   1                 0                   0   \n",
       "4                 0                   0                 0                   0   \n",
       "\n",
       "   order_dow_Tuesday  order_dow_Wednesday  ...  order_status_canceled  \\\n",
       "0                  0                    0  ...                      0   \n",
       "1                  0                    0  ...                      0   \n",
       "2                  1                    0  ...                      0   \n",
       "3                  0                    0  ...                      0   \n",
       "4                  1                    0  ...                      0   \n",
       "\n",
       "   order_status_created  order_status_delivered  order_status_invoiced  \\\n",
       "0                     0                       1                      0   \n",
       "1                     0                       1                      0   \n",
       "2                     0                       1                      0   \n",
       "3                     0                       1                      0   \n",
       "4                     0                       1                      0   \n",
       "\n",
       "   order_status_processing  order_status_shipped  order_status_unavailable  \\\n",
       "0                        0                     0                         0   \n",
       "1                        0                     0                         0   \n",
       "2                        0                     0                         0   \n",
       "3                        0                     0                         0   \n",
       "4                        0                     0                         0   \n",
       "\n",
       "   purch  prob_to_purchase_from_log  prob_to_purchase_fromtree  \n",
       "0      0                   0.386582                   0.002706  \n",
       "1      0                   0.464632                   0.015079  \n",
       "2      0                   0.532090                   0.012080  \n",
       "3      0                   0.380984                   0.010554  \n",
       "4      0                   0.499743                   0.015079  \n",
       "\n",
       "[5 rows x 25 columns]"
      ],
      "text/html": "<div>\n<style scoped>\n    .dataframe tbody tr th:only-of-type {\n        vertical-align: middle;\n    }\n\n    .dataframe tbody tr th {\n        vertical-align: top;\n    }\n\n    .dataframe thead th {\n        text-align: right;\n    }\n</style>\n<table border=\"1\" class=\"dataframe\">\n  <thead>\n    <tr style=\"text-align: right;\">\n      <th></th>\n      <th>customer_unique_id</th>\n      <th>order_recency</th>\n      <th>0</th>\n      <th>order_dow_Friday</th>\n      <th>order_dow_Monday</th>\n      <th>order_dow_Saturday</th>\n      <th>order_dow_Sunday</th>\n      <th>order_dow_Thursday</th>\n      <th>order_dow_Tuesday</th>\n      <th>order_dow_Wednesday</th>\n      <th>...</th>\n      <th>order_status_canceled</th>\n      <th>order_status_created</th>\n      <th>order_status_delivered</th>\n      <th>order_status_invoiced</th>\n      <th>order_status_processing</th>\n      <th>order_status_shipped</th>\n      <th>order_status_unavailable</th>\n      <th>purch</th>\n      <th>prob_to_purchase_from_log</th>\n      <th>prob_to_purchase_fromtree</th>\n    </tr>\n  </thead>\n  <tbody>\n    <tr>\n      <th>0</th>\n      <td>0000f46a3911fa3c0805444483337064</td>\n      <td>9</td>\n      <td>1</td>\n      <td>1</td>\n      <td>0</td>\n      <td>0</td>\n      <td>0</td>\n      <td>0</td>\n      <td>0</td>\n      <td>0</td>\n      <td>...</td>\n      <td>0</td>\n      <td>0</td>\n      <td>1</td>\n      <td>0</td>\n      <td>0</td>\n      <td>0</td>\n      <td>0</td>\n      <td>0</td>\n      <td>0.386582</td>\n      <td>0.002706</td>\n    </tr>\n    <tr>\n      <th>1</th>\n      <td>0000f6ccb0745a6a4b88665a16c9f078</td>\n      <td>2</td>\n      <td>1</td>\n      <td>0</td>\n      <td>0</td>\n      <td>0</td>\n      <td>0</td>\n      <td>1</td>\n      <td>0</td>\n      <td>0</td>\n      <td>...</td>\n      <td>0</td>\n      <td>0</td>\n      <td>1</td>\n      <td>0</td>\n      <td>0</td>\n      <td>0</td>\n      <td>0</td>\n      <td>0</td>\n      <td>0.464632</td>\n      <td>0.015079</td>\n    </tr>\n    <tr>\n      <th>2</th>\n      <td>0004aac84e0df4da2b147fca70cf8255</td>\n      <td>1</td>\n      <td>1</td>\n      <td>0</td>\n      <td>0</td>\n      <td>0</td>\n      <td>0</td>\n      <td>0</td>\n      <td>1</td>\n      <td>0</td>\n      <td>...</td>\n      <td>0</td>\n      <td>0</td>\n      <td>1</td>\n      <td>0</td>\n      <td>0</td>\n      <td>0</td>\n      <td>0</td>\n      <td>0</td>\n      <td>0.532090</td>\n      <td>0.012080</td>\n    </tr>\n    <tr>\n      <th>3</th>\n      <td>0005e1862207bf6ccc02e4228effd9a0</td>\n      <td>10</td>\n      <td>1</td>\n      <td>0</td>\n      <td>0</td>\n      <td>1</td>\n      <td>0</td>\n      <td>0</td>\n      <td>0</td>\n      <td>0</td>\n      <td>...</td>\n      <td>0</td>\n      <td>0</td>\n      <td>1</td>\n      <td>0</td>\n      <td>0</td>\n      <td>0</td>\n      <td>0</td>\n      <td>0</td>\n      <td>0.380984</td>\n      <td>0.010554</td>\n    </tr>\n    <tr>\n      <th>4</th>\n      <td>0006fdc98a402fceb4eb0ee528f6a8d4</td>\n      <td>5</td>\n      <td>1</td>\n      <td>0</td>\n      <td>0</td>\n      <td>0</td>\n      <td>0</td>\n      <td>0</td>\n      <td>1</td>\n      <td>0</td>\n      <td>...</td>\n      <td>0</td>\n      <td>0</td>\n      <td>1</td>\n      <td>0</td>\n      <td>0</td>\n      <td>0</td>\n      <td>0</td>\n      <td>0</td>\n      <td>0.499743</td>\n      <td>0.015079</td>\n    </tr>\n  </tbody>\n</table>\n<p>5 rows × 25 columns</p>\n</div>"
     },
     "metadata": {},
     "execution_count": 177
    }
   ],
   "source": [
    "from sklearn.linear_model import LogisticRegression\n",
    "\n",
    "# define the model object ('liblinear' is recommended for small datasets)\n",
    "clf = LogisticRegression(solver='liblinear', class_weight='balanced', random_state=314)\n",
    "\n",
    "# train (fit) the model using the training sample\n",
    "clf.fit(X_train, y_train)\n",
    "\n",
    "# make predictions on the test sample\n",
    "y_preds = clf.predict(X_test)\n",
    "scores_all = clf.predict_proba(df[preds])[:, 1]\n",
    "df['prob_to_purchase_from_log'] = scores_all\n",
    "\n",
    "df.head()"
   ]
  },
  {
   "source": [
    "## Model Accuracy"
   ],
   "cell_type": "markdown",
   "metadata": {}
  },
  {
   "cell_type": "code",
   "execution_count": 183,
   "metadata": {},
   "outputs": [
    {
     "output_type": "stream",
     "name": "stdout",
     "text": [
      "Accuracy: 0.9849887415561671\n"
     ]
    },
    {
     "output_type": "execute_result",
     "data": {
      "text/plain": [
       "col_0      0     1\n",
       "purch             \n",
       "0      13371  6320\n",
       "1        177   117"
      ],
      "text/html": "<div>\n<style scoped>\n    .dataframe tbody tr th:only-of-type {\n        vertical-align: middle;\n    }\n\n    .dataframe tbody tr th {\n        vertical-align: top;\n    }\n\n    .dataframe thead th {\n        text-align: right;\n    }\n</style>\n<table border=\"1\" class=\"dataframe\">\n  <thead>\n    <tr style=\"text-align: right;\">\n      <th>col_0</th>\n      <th>0</th>\n      <th>1</th>\n    </tr>\n    <tr>\n      <th>purch</th>\n      <th></th>\n      <th></th>\n    </tr>\n  </thead>\n  <tbody>\n    <tr>\n      <th>0</th>\n      <td>13371</td>\n      <td>6320</td>\n    </tr>\n    <tr>\n      <th>1</th>\n      <td>177</td>\n      <td>117</td>\n    </tr>\n  </tbody>\n</table>\n</div>"
     },
     "metadata": {},
     "execution_count": 183
    }
   ],
   "source": [
    "from sklearn.metrics import accuracy_score\n",
    "\n",
    "accuracy_score(y_test, y_preds)\n",
    "print(\"Accuracy:\",metrics.accuracy_score(y_test, y_pred))\n",
    "pd.crosstab(y_test, y_preds)\n",
    "\n"
   ]
  },
  {
   "source": [
    "### AUC "
   ],
   "cell_type": "markdown",
   "metadata": {}
  },
  {
   "source": [
    "from sklearn.metrics import roc_auc_score\n",
    "\n",
    "# calculate the probabilities on the test sample\n",
    "y_scores = clf.predict_proba(X_test)[:, 1]\n",
    "\n",
    "# calcualte AUC\n",
    "roc_auc_score(y_test, y_scores)"
   ],
   "cell_type": "code",
   "metadata": {},
   "execution_count": 179,
   "outputs": [
    {
     "output_type": "execute_result",
     "data": {
      "text/plain": [
       "0.5393123934861639"
      ]
     },
     "metadata": {},
     "execution_count": 179
    }
   ]
  },
  {
   "source": [
    "### Precision"
   ],
   "cell_type": "markdown",
   "metadata": {}
  },
  {
   "cell_type": "code",
   "execution_count": 127,
   "metadata": {},
   "outputs": [
    {
     "output_type": "execute_result",
     "data": {
      "text/plain": [
       "0.03174239092272168"
      ]
     },
     "metadata": {},
     "execution_count": 127
    }
   ],
   "source": [
    "from sklearn import tree\n",
    "from sklearn.model_selection import train_test_split # Import train_test_split function\n",
    "from sklearn import metrics #Import scikit-learn metrics module for accuracy calculation\n",
    "\n",
    "\n",
    "average_precision = average_precision_score(y_test, y_scores)\n",
    "\n",
    "average_precision"
   ]
  },
  {
   "source": [
    "## Decision Tree"
   ],
   "cell_type": "markdown",
   "metadata": {}
  },
  {
   "cell_type": "code",
   "execution_count": 170,
   "metadata": {},
   "outputs": [],
   "source": [
    "# define the model object\n",
    "\n",
    "\n",
    "dec_tree = DecisionTreeClassifier(criterion=\"entropy\", max_depth=3)\n",
    "\n",
    "clf = dec_tree.fit(X_train, y_train)\n",
    "\n",
    "y_train_hat = dec_tree.predict(X_train)\n",
    "\n",
    "y_test_hat = dec_tree.predict(X_test)\n",
    "\n",
    "scores_alltree = clf.predict_proba(df[preds])[:, 1]\n",
    "\n",
    "df['prob_to_purchase_fromtree'] = scores_alltree\n",
    "\n",
    "df.head()\n",
    "\n"
   ]
  },
  {
   "source": [
    "## Confusion Matrix"
   ],
   "cell_type": "markdown",
   "metadata": {}
  },
  {
   "cell_type": "code",
   "execution_count": 154,
   "metadata": {},
   "outputs": [
    {
     "output_type": "execute_result",
     "data": {
      "text/plain": [
       "col_0      0  1\n",
       "purch          \n",
       "0      19684  7\n",
       "1        293  1"
      ],
      "text/html": "<div>\n<style scoped>\n    .dataframe tbody tr th:only-of-type {\n        vertical-align: middle;\n    }\n\n    .dataframe tbody tr th {\n        vertical-align: top;\n    }\n\n    .dataframe thead th {\n        text-align: right;\n    }\n</style>\n<table border=\"1\" class=\"dataframe\">\n  <thead>\n    <tr style=\"text-align: right;\">\n      <th>col_0</th>\n      <th>0</th>\n      <th>1</th>\n    </tr>\n    <tr>\n      <th>purch</th>\n      <th></th>\n      <th></th>\n    </tr>\n  </thead>\n  <tbody>\n    <tr>\n      <th>0</th>\n      <td>19684</td>\n      <td>7</td>\n    </tr>\n    <tr>\n      <th>1</th>\n      <td>293</td>\n      <td>1</td>\n    </tr>\n  </tbody>\n</table>\n</div>"
     },
     "metadata": {},
     "execution_count": 154
    }
   ],
   "source": [
    "pd.crosstab(y_test, y_pred)\n",
    "\n"
   ]
  },
  {
   "cell_type": "code",
   "execution_count": 155,
   "metadata": {},
   "outputs": [],
   "source": [
    "from sklearn.metrics import (roc_curve, auc, roc_auc_score,\n",
    "                             confusion_matrix)\n",
    "import matplotlib.pyplot as plt\n",
    "import numpy as np\n",
    "import itertools"
   ]
  },
  {
   "source": [
    "## AUC For Tree"
   ],
   "cell_type": "markdown",
   "metadata": {}
  },
  {
   "cell_type": "code",
   "execution_count": 157,
   "metadata": {},
   "outputs": [],
   "source": [
    "def get_auc_scores(clf, X_train, X_test, y_train, y_test):\n",
    "    ##Prints the AUC scores for training and testing data\n",
    "   ##and returns testing score”””\n",
    " \n",
    " y_train_score = clf.predict_proba(X_train)[:, 1]\n",
    " y_test_score = clf.predict_proba(X_test)[:, 1]\n",
    " auc_train = roc_auc_score(y_train, y_train_score)\n",
    " auc_test = roc_auc_score(y_test, y_test_score)\n",
    " print(f\" Training AUC: {auc_train} Testing AUC: {auc_test}\")\n",
    " \n",
    " return y_test_score\n",
    "\n",
    " \n"
   ]
  },
  {
   "cell_type": "code",
   "execution_count": 158,
   "metadata": {},
   "outputs": [
    {
     "output_type": "stream",
     "name": "stdout",
     "text": [
      " Training AUC: 0.5928652826320849 Testing AUC: 0.5232829356413735\n"
     ]
    },
    {
     "output_type": "execute_result",
     "data": {
      "text/plain": [
       "array([0.01507867, 0.01507867, 0.01208026, ..., 0.01055352, 0.01208026,\n",
       "       0.01507867])"
      ]
     },
     "metadata": {},
     "execution_count": 158
    }
   ],
   "source": [
    "get_auc_scores(clf, X_train, X_test, y_train, y_test)"
   ]
  },
  {
   "source": [
    "## Pearson's distance"
   ],
   "cell_type": "markdown",
   "metadata": {}
  },
  {
   "cell_type": "code",
   "execution_count": 176,
   "metadata": {},
   "outputs": [
    {
     "output_type": "execute_result",
     "data": {
      "text/plain": [
       "(0.7322266286067082, 0.0)"
      ]
     },
     "metadata": {},
     "execution_count": 176
    }
   ],
   "source": [
    "from scipy import stats\n",
    "\n",
    "stats.pearsonr(df['prob_to_purchase_fromtree'], df['prob_to_purchase_from_log'])\n"
   ]
  },
  {
   "cell_type": "code",
   "execution_count": 171,
   "metadata": {},
   "outputs": [
    {
     "output_type": "stream",
     "name": "stdout",
     "text": [
      "Index([       'customer_unique_id',             'order_recency',\n                                 0,          'order_dow_Friday',\n                'order_dow_Monday',        'order_dow_Saturday',\n                'order_dow_Sunday',        'order_dow_Thursday',\n               'order_dow_Tuesday',       'order_dow_Wednesday',\n                           'delta',                   'Morning',\n                       'Afternoon',                   'Evening',\n           'order_status_approved',     'order_status_canceled',\n            'order_status_created',    'order_status_delivered',\n           'order_status_invoiced',   'order_status_processing',\n            'order_status_shipped',  'order_status_unavailable',\n                           'purch', 'prob_to_purchase_from_log',\n       'prob_to_purchase_fromtree'],\n      dtype='object')\n"
     ]
    }
   ],
   "source": [
    "print(df.columns)"
   ]
  },
  {
   "source": [
    "### K Fold "
   ],
   "cell_type": "markdown",
   "metadata": {}
  }
 ],
 "metadata": {
  "kernelspec": {
   "name": "python3",
   "display_name": "Python 3.8.3 64-bit (conda)",
   "metadata": {
    "interpreter": {
     "hash": "00c0932071219b22fe8095f7a31938ce744fa739cdf4db4a83393f66f53e13cd"
    }
   }
  }
 },
 "nbformat": 4,
 "nbformat_minor": 4
}