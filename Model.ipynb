{
 "cells": [
  {
   "cell_type": "code",
   "execution_count": 2,
   "metadata": {},
   "outputs": [],
   "source": [
    "import numpy as np\n",
    "import pandas as pd\n",
    "from datetime import date\n",
    "import datetime as dt\n",
    "import calendar as calendar"
   ]
  },
  {
   "cell_type": "code",
   "execution_count": 39,
   "metadata": {},
   "outputs": [
    {
     "output_type": "stream",
     "name": "stdout",
     "text": [
      "99,441 read from customer file\n",
      "99,441 read from orders file\n"
     ]
    }
   ],
   "source": [
    "def load_csvs(customerfile, orderfile, verbose):\n",
    "    customers = pd.read_csv(customerfile)\n",
    "\n",
    "    if verbose: \n",
    "        print(f'{len(customers):,} read from customer file')\n",
    "\n",
    "\n",
    "    orders = pd.read_csv(orderfile)\n",
    "    orders['order_purchase_timestamp'] = pd.to_datetime(orders['order_purchase_timestamp'])\n",
    "    orders['order_purchase_date'] = orders['order_purchase_timestamp'].dt.date\n",
    "    orders['order_dow']= orders['order_purchase_timestamp'].dt.strftime(('%A'))\n",
    "\n",
    "    \n",
    "    if verbose :\n",
    "        print((f'{len(orders):,} read from orders file'))\n",
    "\n",
    "    ordercustsout = pd.merge(customers,orders, on = \"customer_id\", how = \"inner\")\n",
    "\n",
    "\n",
    "    ordercustsout = ordercustsout.sort_values(['customer_unique_id', 'order_purchase_timestamp'])\n",
    "    \n",
    "    return ordercustsout\n",
    "\n",
    "orders_file = 'Data\\olist_orders_dataset.csv'\n",
    "customers_file = 'Data\\olist_customers_dataset.csv'\n",
    "\n",
    "\n",
    "\n",
    "    ##Load data and create DF to last full month, june 2018\n",
    "custorders_cleaned = load_csvs(customers_file, orders_file, 1)"
   ]
  },
  {
   "cell_type": "code",
   "execution_count": 41,
   "metadata": {},
   "outputs": [
    {
     "output_type": "execute_result",
     "data": {
      "text/plain": [
       "636020"
      ]
     },
     "metadata": {},
     "execution_count": 41
    }
   ],
   "source": [
    "snapshot_date = date(2017, 12, 31)\n",
    "mask1 = custorders_cleaned['order_purchase_timestamp'].dt.date <= snapshot_date\n",
    "df_raw = custorders_cleaned[mask1]\n",
    "\n",
    "df_raw.size\n",
    "\n"
   ]
  },
  {
   "source": [
    "## Attributes 1 3:\n"
   ],
   "cell_type": "markdown",
   "metadata": {}
  },
  {
   "cell_type": "code",
   "execution_count": 84,
   "metadata": {},
   "outputs": [
    {
     "output_type": "stream",
     "name": "stdout",
     "text": [
      "cust_orders completed\n"
     ]
    },
    {
     "output_type": "execute_result",
     "data": {
      "text/plain": [
       "88068"
      ]
     },
     "metadata": {},
     "execution_count": 84
    }
   ],
   "source": [
    "\n",
    "## Attribute 1: Number of orders per customer ##\n",
    "def cust_orders(df): \n",
    "    custorders =  df.groupby('customer_unique_id').size().reset_index()\n",
    "    print(\"cust_orders completed\")\n",
    "    return custorders\n",
    "\n",
    "\n",
    "cust_ordersreturned = cust_orders(df_raw)\n",
    "\n",
    "\n",
    "cust_ordersreturned.size"
   ]
  },
  {
   "cell_type": "code",
   "execution_count": 83,
   "metadata": {},
   "outputs": [
    {
     "output_type": "execute_result",
     "data": {
      "text/plain": [
       "88068"
      ]
     },
     "metadata": {},
     "execution_count": 83
    }
   ],
   "source": [
    "##Attribute 2: \n",
    "def get_customer_recency(df):\n",
    "    cust_recency = df.groupby('customer_unique_id')['order_purchase_timestamp'].max().reset_index()\n",
    "    delta = snapshot_date - cust_recency['order_purchase_timestamp'].dt.date\n",
    "    cust_recency['order_recency'] = delta.dt.days / 30\n",
    "    cust_recency['order_recency'] = cust_recency['order_recency'].astype(int)\n",
    "\n",
    "    cust_recency = cust_recency.drop('order_purchase_timestamp', axis=1)\n",
    "\n",
    "    return cust_recency\n",
    "\n",
    "\n",
    "cust_recency = get_customer_recency(df_raw)\n",
    "\n",
    "cust_recency.size"
   ]
  },
  {
   "cell_type": "code",
   "execution_count": 105,
   "metadata": {},
   "outputs": [
    {
     "output_type": "execute_result",
     "data": {
      "text/plain": [
       "(44034, 8)"
      ]
     },
     "metadata": {},
     "execution_count": 105
    }
   ],
   "source": [
    "##Attribute 3: \n",
    "\n",
    "df_raw12 = pd.get_dummies(df_raw, columns=['order_dow'])\n",
    "dummies = [x for x in df_raw12.columns if 'order_dow_' in x]\n",
    "\n",
    "# aggreagte data to the customer-level, so that we have one record per customer\n",
    "cust_dow = df_raw12.groupby('customer_unique_id')[dummies].sum().reset_index()\n",
    "\n",
    "cust_dow.shape\n",
    "\n"
   ]
  },
  {
   "cell_type": "code",
   "execution_count": 88,
   "metadata": {},
   "outputs": [
    {
     "output_type": "execute_result",
     "data": {
      "text/plain": [
       "((44034, 1), 88068, 88068)"
      ]
     },
     "metadata": {},
     "execution_count": 88
    }
   ],
   "source": [
    "cust_dow.shape,cust_recency.shap, cust_ordersreturned.size"
   ]
  },
  {
   "source": [
    "## Attribute 4: Counts of orders by status "
   ],
   "cell_type": "markdown",
   "metadata": {}
  },
  {
   "cell_type": "code",
   "execution_count": 81,
   "metadata": {},
   "outputs": [
    {
     "output_type": "execute_result",
     "data": {
      "text/plain": [
       "396306"
      ]
     },
     "metadata": {},
     "execution_count": 81
    }
   ],
   "source": [
    "def orderbystatus(df): \n",
    "\n",
    "    df_raw = pd.get_dummies(df, columns=['order_status'])\n",
    "    dummies = [x for x in df_raw.columns if 'order_status' in x]\n",
    "    count_by_orderstatus = df_raw.groupby('customer_unique_id')[dummies].sum().reset_index()\n",
    "    return count_by_orderstatus\n",
    "\n",
    "\n",
    "\n",
    "orderstatuscounts = orderbystatus(df_raw)\n",
    "\n",
    "orderstatuscounts.size"
   ]
  },
  {
   "source": [
    "## Attribute 5: Time between estimated and actual delivery dates"
   ],
   "cell_type": "markdown",
   "metadata": {}
  },
  {
   "cell_type": "code",
   "execution_count": 92,
   "metadata": {},
   "outputs": [
    {
     "output_type": "stream",
     "name": "stderr",
     "text": [
      "<ipython-input-92-89fced6c8c6d>:4: SettingWithCopyWarning: \nA value is trying to be set on a copy of a slice from a DataFrame.\nTry using .loc[row_indexer,col_indexer] = value instead\n\nSee the caveats in the documentation: https://pandas.pydata.org/pandas-docs/stable/user_guide/indexing.html#returning-a-view-versus-a-copy\n  df['order_purchase_timestamp'] = pd.to_datetime(df.order_purchase_timestamp, format='%Y-%m-%d %H:%M:%S')\n<ipython-input-92-89fced6c8c6d>:5: SettingWithCopyWarning: \nA value is trying to be set on a copy of a slice from a DataFrame.\nTry using .loc[row_indexer,col_indexer] = value instead\n\nSee the caveats in the documentation: https://pandas.pydata.org/pandas-docs/stable/user_guide/indexing.html#returning-a-view-versus-a-copy\n  df['Late Night'] = df['order_purchase_timestamp'].dt.time.between(dt.time(0), dt.time(5)).astype(int)\n<ipython-input-92-89fced6c8c6d>:6: SettingWithCopyWarning: \nA value is trying to be set on a copy of a slice from a DataFrame.\nTry using .loc[row_indexer,col_indexer] = value instead\n\nSee the caveats in the documentation: https://pandas.pydata.org/pandas-docs/stable/user_guide/indexing.html#returning-a-view-versus-a-copy\n  df['Morning'] = df['order_purchase_timestamp'].dt.time.between(dt.time(5,0,00,1), dt.time(11)).astype(int)\n<ipython-input-92-89fced6c8c6d>:7: SettingWithCopyWarning: \nA value is trying to be set on a copy of a slice from a DataFrame.\nTry using .loc[row_indexer,col_indexer] = value instead\n\nSee the caveats in the documentation: https://pandas.pydata.org/pandas-docs/stable/user_guide/indexing.html#returning-a-view-versus-a-copy\n  df['Afternoon'] = df['order_purchase_timestamp'].dt.time.between(dt.time(11,0,00,1), dt.time(16)).astype(int)\n<ipython-input-92-89fced6c8c6d>:8: SettingWithCopyWarning: \nA value is trying to be set on a copy of a slice from a DataFrame.\nTry using .loc[row_indexer,col_indexer] = value instead\n\nSee the caveats in the documentation: https://pandas.pydata.org/pandas-docs/stable/user_guide/indexing.html#returning-a-view-versus-a-copy\n  df['Evening'] = df['order_purchase_timestamp'].dt.time.between(dt.time(16,0,00,1), dt.time(23, 59, 59, 999999)).astype(int)\n"
     ]
    },
    {
     "output_type": "execute_result",
     "data": {
      "text/plain": [
       "(44034, 4)"
      ]
     },
     "metadata": {},
     "execution_count": 92
    }
   ],
   "source": [
    "\n",
    "    \n",
    "df = df_raw\n",
    "\n",
    "dummies = ['Morning', 'Afternoon', 'Evening']\n",
    "df['order_purchase_timestamp'] = pd.to_datetime(df.order_purchase_timestamp, format='%Y-%m-%d %H:%M:%S')\n",
    "df['Late Night'] = df['order_purchase_timestamp'].dt.time.between(dt.time(0), dt.time(5)).astype(int)\n",
    "df['Morning'] = df['order_purchase_timestamp'].dt.time.between(dt.time(5,0,00,1), dt.time(11)).astype(int)\n",
    "df['Afternoon'] = df['order_purchase_timestamp'].dt.time.between(dt.time(11,0,00,1), dt.time(16)).astype(int)\n",
    "df['Evening'] = df['order_purchase_timestamp'].dt.time.between(dt.time(16,0,00,1), dt.time(23, 59, 59, 999999)).astype(int)\n",
    "\n",
    "PM = df.groupby('customer_unique_id')[dummies].sum().reset_index()\n",
    "\n",
    "PM.shape\n",
    "\n"
   ]
  },
  {
   "cell_type": "code",
   "execution_count": null,
   "metadata": {},
   "outputs": [],
   "source": [
    "Attribute 6"
   ]
  },
  {
   "cell_type": "code",
   "execution_count": 96,
   "metadata": {},
   "outputs": [
    {
     "output_type": "execute_result",
     "data": {
      "text/plain": [
       "customer_id                         0\n",
       "customer_unique_id                  0\n",
       "customer_zip_code_prefix            0\n",
       "customer_city                       0\n",
       "customer_state                      0\n",
       "order_id                            0\n",
       "order_status                        0\n",
       "order_purchase_timestamp            0\n",
       "order_approved_at                  78\n",
       "order_delivered_carrier_date     1192\n",
       "order_delivered_customer_date    1732\n",
       "order_estimated_delivery_date       0\n",
       "order_purchase_date                 0\n",
       "order_dow                           0\n",
       "Morning                             0\n",
       "Afternoon                           0\n",
       "Evening                             0\n",
       "Late Night                          0\n",
       "dtype: int64"
      ]
     },
     "metadata": {},
     "execution_count": 96
    }
   ],
   "source": []
  },
  {
   "cell_type": "code",
   "execution_count": 95,
   "metadata": {},
   "outputs": [
    {
     "output_type": "stream",
     "name": "stderr",
     "text": [
      "<ipython-input-95-a509760fcdc8>:2: SettingWithCopyWarning: \nA value is trying to be set on a copy of a slice from a DataFrame.\nTry using .loc[row_indexer,col_indexer] = value instead\n\nSee the caveats in the documentation: https://pandas.pydata.org/pandas-docs/stable/user_guide/indexing.html#returning-a-view-versus-a-copy\n  df['order_delivered_customer_date'] = pd.to_datetime(df.order_delivered_customer_date, format='%Y-%m-%d %H:%M:%S')\n<ipython-input-95-a509760fcdc8>:3: SettingWithCopyWarning: \nA value is trying to be set on a copy of a slice from a DataFrame.\nTry using .loc[row_indexer,col_indexer] = value instead\n\nSee the caveats in the documentation: https://pandas.pydata.org/pandas-docs/stable/user_guide/indexing.html#returning-a-view-versus-a-copy\n  df['order_estimated_delivery_date'] = pd.to_datetime(df.order_estimated_delivery_date, format='%Y-%m-%d %H:%M:%S')\n<ipython-input-95-a509760fcdc8>:10: SettingWithCopyWarning: \nA value is trying to be set on a copy of a slice from a DataFrame.\nTry using .loc[row_indexer,col_indexer] = value instead\n\nSee the caveats in the documentation: https://pandas.pydata.org/pandas-docs/stable/user_guide/indexing.html#returning-a-view-versus-a-copy\n  df['delta'] = delta.dt.days.astype(int)\n"
     ]
    },
    {
     "output_type": "execute_result",
     "data": {
      "text/plain": [
       "(39969, 2)"
      ]
     },
     "metadata": {},
     "execution_count": 95
    }
   ],
   "source": [
    "def time_between_estimated_and_actual(df):\n",
    "    df['order_delivered_customer_date'] = pd.to_datetime(df.order_delivered_customer_date, format='%Y-%m-%d %H:%M:%S')\n",
    "    df['order_estimated_delivery_date'] = pd.to_datetime(df.order_estimated_delivery_date, format='%Y-%m-%d %H:%M:%S')\n",
    "    mask = df['order_delivered_customer_date'].dt.date <= snapshot_date  \n",
    "    df = df[mask]\n",
    "    \n",
    "    delta = df['order_delivered_customer_date'].dt.date - df['order_estimated_delivery_date'].dt.date\n",
    "\n",
    "\n",
    "    df['delta'] = delta.dt.days.astype(int)\n",
    "\n",
    "    time_between =  df.groupby('customer_unique_id')['delta'].mean().reset_index()\n",
    "    \n",
    "    return time_between\n",
    "\n",
    "timebetween = time_between_estimated_and_actual(df_raw)\n",
    "\n",
    "timebetween.shape"
   ]
  },
  {
   "source": [],
   "cell_type": "markdown",
   "metadata": {}
  },
  {
   "source": [
    "# Merge them "
   ],
   "cell_type": "markdown",
   "metadata": {}
  },
  {
   "cell_type": "code",
   "execution_count": 136,
   "metadata": {},
   "outputs": [],
   "source": [
    "df_merged = pd.merge(cust_recency, cust_ordersreturned, on='customer_unique_id').merge(cust_dow, on='customer_unique_id').merge(timebetween, on='customer_unique_id').merge(PM, on ='customer_unique_id' ).merge(orderstatuscounts, on='customer_unique_id')"
   ]
  },
  {
   "cell_type": "code",
   "execution_count": 108,
   "metadata": {},
   "outputs": [
    {
     "output_type": "execute_result",
     "data": {
      "text/plain": [
       "(39969, 22)"
      ]
     },
     "metadata": {},
     "execution_count": 108
    }
   ],
   "source": []
  },
  {
   "source": [
    "### Assign labels (aka the target variable or the dependent variable)\n"
   ],
   "cell_type": "markdown",
   "metadata": {}
  },
  {
   "cell_type": "code",
   "execution_count": 132,
   "metadata": {},
   "outputs": [
    {
     "output_type": "stream",
     "name": "stdout",
     "text": [
      "2018-01-01 02:48:41 2018-07-31 23:54:20\n"
     ]
    }
   ],
   "source": [
    "start_date = dt.datetime(2018, 1, 1)\n",
    "end_date = dt.datetime(2018, 7, 31)\n",
    "\n",
    "custorders_cleaned.columns\n",
    "\n",
    "mask= (custorders_cleaned['order_purchase_timestamp'].dt.date >= startdate) & (custorders_cleaned['order_purchase_timestamp'].dt.date < enddate)\n",
    "\n",
    "target_events_raw = custorders_cleaned[mask]\n",
    "\n",
    "print (target_events_raw['order_purchase_timestamp'].min(), target_events_raw['order_purchase_timestamp'].max())"
   ]
  },
  {
   "cell_type": "code",
   "execution_count": 133,
   "metadata": {},
   "outputs": [
    {
     "output_type": "execute_result",
     "data": {
      "text/plain": [
       "                 customer_unique_id  purch\n",
       "0  0000366f3b9a7992bf8c76cfdf3221e2      1\n",
       "1  0000b849f77a49e4a4ce2b2a4ca5be3f      1\n",
       "2  0004bd2a26a76fe21f786e4fbd80607f      1\n",
       "3  00050ab1314c0e55a6ca13cf7181fecf      1\n",
       "4  00053a61a98854899e70ed204dd4bafe      1"
      ],
      "text/html": "<div>\n<style scoped>\n    .dataframe tbody tr th:only-of-type {\n        vertical-align: middle;\n    }\n\n    .dataframe tbody tr th {\n        vertical-align: top;\n    }\n\n    .dataframe thead th {\n        text-align: right;\n    }\n</style>\n<table border=\"1\" class=\"dataframe\">\n  <thead>\n    <tr style=\"text-align: right;\">\n      <th></th>\n      <th>customer_unique_id</th>\n      <th>purch</th>\n    </tr>\n  </thead>\n  <tbody>\n    <tr>\n      <th>0</th>\n      <td>0000366f3b9a7992bf8c76cfdf3221e2</td>\n      <td>1</td>\n    </tr>\n    <tr>\n      <th>1</th>\n      <td>0000b849f77a49e4a4ce2b2a4ca5be3f</td>\n      <td>1</td>\n    </tr>\n    <tr>\n      <th>2</th>\n      <td>0004bd2a26a76fe21f786e4fbd80607f</td>\n      <td>1</td>\n    </tr>\n    <tr>\n      <th>3</th>\n      <td>00050ab1314c0e55a6ca13cf7181fecf</td>\n      <td>1</td>\n    </tr>\n    <tr>\n      <th>4</th>\n      <td>00053a61a98854899e70ed204dd4bafe</td>\n      <td>1</td>\n    </tr>\n  </tbody>\n</table>\n</div>"
     },
     "metadata": {},
     "execution_count": 133
    }
   ],
   "source": [
    "target_events = target_events_raw.groupby('customer_unique_id').size().reset_index().rename(columns={0: 'purch'})\n",
    "\n",
    "target_events.head()"
   ]
  },
  {
   "cell_type": "code",
   "execution_count": 134,
   "metadata": {},
   "outputs": [
    {
     "output_type": "stream",
     "name": "stdout",
     "text": [
      "Number of customers who made at least one purchase durnig the prediction window: 46,412\n"
     ]
    }
   ],
   "source": [
    "print(f'Number of customers who made at least one purchase durnig the prediction window: {len(target_events):,}')"
   ]
  },
  {
   "cell_type": "code",
   "execution_count": 142,
   "metadata": {},
   "outputs": [
    {
     "output_type": "execute_result",
     "data": {
      "text/plain": [
       "0    39394\n",
       "1      575\n",
       "Name: purch, dtype: int64"
      ]
     },
     "metadata": {},
     "execution_count": 142
    }
   ],
   "source": [
    "df = pd.merge(df_merged, target_events, how=\"left\", on=\"customer_unique_id\")\n",
    "\n",
    "df.shape\n",
    "\n",
    "df.head()\n",
    "\n",
    "df.purch.value_counts()\n",
    "\n",
    "df['purch'] = [1 if x > 0 else 0 for x in df['purch']]\n",
    "df.purch.value_counts()\n"
   ]
  },
  {
   "cell_type": "code",
   "execution_count": 144,
   "metadata": {},
   "outputs": [
    {
     "output_type": "execute_result",
     "data": {
      "text/plain": [
       "order_recency              -0.012610\n",
       "0                           0.073325\n",
       "order_dow_Friday           -0.000696\n",
       "order_dow_Monday            0.013280\n",
       "order_dow_Saturday         -0.003070\n",
       "order_dow_Sunday            0.012385\n",
       "order_dow_Thursday          0.006427\n",
       "order_dow_Tuesday           0.005260\n",
       "order_dow_Wednesday         0.007668\n",
       "delta                      -0.002853\n",
       "Morning                     0.014710\n",
       "Afternoon                   0.006054\n",
       "Evening                     0.007572\n",
       "order_status_approved            NaN\n",
       "order_status_canceled      -0.003255\n",
       "order_status_created             NaN\n",
       "order_status_delivered      0.073273\n",
       "order_status_invoiced      -0.002005\n",
       "order_status_processing     0.012190\n",
       "order_status_shipped        0.012351\n",
       "order_status_unavailable    0.009473\n",
       "purch                       1.000000\n",
       "Name: purch, dtype: float64"
      ]
     },
     "metadata": {},
     "execution_count": 144
    }
   ],
   "source": [
    "df.purch.value_counts() / len(df)\n",
    "\n",
    "\n",
    "df.corr()['purch']"
   ]
  },
  {
   "source": [
    "# Model Building"
   ],
   "cell_type": "markdown",
   "metadata": {}
  }
 ],
 "metadata": {
  "kernelspec": {
   "name": "python3",
   "display_name": "Python 3.8.3 64-bit (conda)",
   "metadata": {
    "interpreter": {
     "hash": "00c0932071219b22fe8095f7a31938ce744fa739cdf4db4a83393f66f53e13cd"
    }
   }
  }
 },
 "nbformat": 4,
 "nbformat_minor": 4
}